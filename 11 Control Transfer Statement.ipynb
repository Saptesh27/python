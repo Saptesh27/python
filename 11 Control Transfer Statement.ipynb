{
 "cells": [
  {
   "cell_type": "markdown",
   "id": "a5698b30",
   "metadata": {},
   "source": [
    "### Control Transfer Statements\n",
    "####  1. continue\n",
    "####  2. break\n",
    "####  3. pass"
   ]
  },
  {
   "cell_type": "markdown",
   "id": "ab781c83",
   "metadata": {},
   "source": [
    "## Continue\n",
    "- we can continue statement to skip the current iteration and continue with next iteration\n",
    "- To skip a given particular ietration by given condiiton\n",
    "- syntax:\n",
    "- for iterative_variable in sequence:\n",
    "-      if condition:\n",
    "-             continue\n",
    "-       statement"
   ]
  },
  {
   "cell_type": "code",
   "execution_count": 2,
   "id": "28c50ac7",
   "metadata": {},
   "outputs": [
    {
     "name": "stdout",
     "output_type": "stream",
     "text": [
      "1\n",
      "2\n",
      "3\n",
      "4\n",
      "6\n",
      "7\n",
      "8\n",
      "9\n",
      "10\n"
     ]
    }
   ],
   "source": [
    "### skip 5 in 1 to 10 numbers\n",
    "for i in range (1,11):\n",
    "    if i==5:\n",
    "        continue\n",
    "    print(i)"
   ]
  },
  {
   "cell_type": "code",
   "execution_count": 3,
   "id": "d0b3aa5c",
   "metadata": {},
   "outputs": [
    {
     "name": "stdout",
     "output_type": "stream",
     "text": [
      "2\n",
      "4\n",
      "6\n",
      "8\n",
      "10\n"
     ]
    }
   ],
   "source": [
    "### Even Numbers using continue\n",
    "for i in range (1,11):\n",
    "    if i%2==0:\n",
    "        print(i)\n",
    "    continue"
   ]
  },
  {
   "cell_type": "code",
   "execution_count": 4,
   "id": "fb1e82ed",
   "metadata": {},
   "outputs": [
    {
     "name": "stdout",
     "output_type": "stream",
     "text": [
      "2\n",
      "4\n",
      "6\n",
      "8\n",
      "10\n"
     ]
    }
   ],
   "source": [
    "for i in range (1,11):\n",
    "    if i%2!=0:\n",
    "        continue\n",
    "    print(i)"
   ]
  },
  {
   "cell_type": "code",
   "execution_count": 7,
   "id": "22c0ffe8",
   "metadata": {},
   "outputs": [
    {
     "name": "stdout",
     "output_type": "stream",
     "text": [
      "7\n",
      "14\n",
      "21\n",
      "28\n",
      "35\n",
      "42\n",
      "49\n",
      "56\n",
      "63\n",
      "70\n"
     ]
    }
   ],
   "source": [
    "for i in range (7,71):\n",
    "    if i%7==0:\n",
    "        print(i)\n",
    "    continue"
   ]
  },
  {
   "cell_type": "markdown",
   "id": "0f11438d",
   "metadata": {},
   "source": [
    "## 2. break\n",
    "\n",
    "- Use to stop execution of loop when a particular condition occurs."
   ]
  },
  {
   "cell_type": "code",
   "execution_count": 19,
   "id": "2a410fec",
   "metadata": {},
   "outputs": [
    {
     "name": "stdout",
     "output_type": "stream",
     "text": [
      "Etnter only even n:2\n",
      "Square root is: 4\n",
      "Etnter only even n:3\n",
      "odd number inputed\n"
     ]
    }
   ],
   "source": [
    "## break when odd number inputed otherwise print square root of even number\n",
    "for i in range(11):\n",
    "    a=eval(input('Etnter only even n:'))\n",
    "    if a%2!=0:\n",
    "        print('odd number inputed')\n",
    "        break\n",
    "    print('Square root is:',a*a)"
   ]
  },
  {
   "cell_type": "code",
   "execution_count": 26,
   "id": "9c17a4b5",
   "metadata": {},
   "outputs": [
    {
     "name": "stdout",
     "output_type": "stream",
     "text": [
      "4\n"
     ]
    }
   ],
   "source": [
    "# find first even number \n",
    "lst = [1,3,7,4,5,9,10,11]\n",
    "for i in lst:\n",
    "    if i%2==0:\n",
    "        print(i)\n",
    "        break\n",
    "    "
   ]
  },
  {
   "cell_type": "code",
   "execution_count": 27,
   "id": "0e086c03",
   "metadata": {},
   "outputs": [
    {
     "name": "stdout",
     "output_type": "stream",
     "text": [
      "1\n"
     ]
    }
   ],
   "source": [
    "# find first odd number \n",
    "lst = [1,3,7,4,5,9,10,11]\n",
    "for i in lst:\n",
    "    if i%2!=0:\n",
    "        print(i)\n",
    "        break\n",
    "    "
   ]
  },
  {
   "cell_type": "markdown",
   "id": "1c0006a1",
   "metadata": {},
   "source": [
    "### Pass\n",
    "- in our programing syntatictically if block is require which want do anythin then we use pass keyword to define the empty block\n",
    "- The pass statement is placeholder statement in python that does nothing\n",
    "- It used as placeholder when you need to implement the block of code later but you don't have the code available yet"
   ]
  },
  {
   "cell_type": "code",
   "execution_count": 2,
   "id": "e7febc9b",
   "metadata": {},
   "outputs": [
    {
     "name": "stdout",
     "output_type": "stream",
     "text": [
      "hello\n"
     ]
    }
   ],
   "source": [
    "for i in range(1,10):\n",
    "    pass\n",
    "print('hello')"
   ]
  },
  {
   "cell_type": "code",
   "execution_count": 33,
   "id": "29d1fe05",
   "metadata": {},
   "outputs": [],
   "source": [
    "for i in range(1,6):\n",
    "    if i==3:\n",
    "        pass"
   ]
  },
  {
   "cell_type": "code",
   "execution_count": null,
   "id": "cc81e7e0",
   "metadata": {},
   "outputs": [],
   "source": []
  }
 ],
 "metadata": {
  "kernelspec": {
   "display_name": "Python 3 (ipykernel)",
   "language": "python",
   "name": "python3"
  },
  "language_info": {
   "codemirror_mode": {
    "name": "ipython",
    "version": 3
   },
   "file_extension": ".py",
   "mimetype": "text/x-python",
   "name": "python",
   "nbconvert_exporter": "python",
   "pygments_lexer": "ipython3",
   "version": "3.10.9"
  }
 },
 "nbformat": 4,
 "nbformat_minor": 5
}
