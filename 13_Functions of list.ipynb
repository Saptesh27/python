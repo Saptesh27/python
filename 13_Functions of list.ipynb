{
 "cells": [
  {
   "cell_type": "markdown",
   "id": "bb9669f3",
   "metadata": {},
   "source": [
    "## 1.Append()\n",
    "    \n",
    "    we can use append() to add element at the end of the list\n",
    "    syntax: list_name.append(elements)"
   ]
  },
  {
   "cell_type": "code",
   "execution_count": 3,
   "id": "39608606",
   "metadata": {},
   "outputs": [
    {
     "name": "stdout",
     "output_type": "stream",
     "text": [
      "[1, 2, 3, 4, 5]\n",
      "[1, 2, 3, 4, 5, 6]\n"
     ]
    }
   ],
   "source": [
    "list1=[1,2,3,4,5]\n",
    "print(list1)\n",
    "list1.append(6)\n",
    "print(list1)"
   ]
  },
  {
   "cell_type": "code",
   "execution_count": 4,
   "id": "195fce9c",
   "metadata": {},
   "outputs": [
    {
     "name": "stdout",
     "output_type": "stream",
     "text": [
      "[10, 20, 30, 40, 50, 60, 70, 80, 90, 100]\n"
     ]
    }
   ],
   "source": [
    "#add 10 table in empty list using for loop\n",
    "lst=[]\n",
    "for i in range(1,11):\n",
    "    lst.append(i*10)\n",
    "print(lst)"
   ]
  },
  {
   "cell_type": "code",
   "execution_count": 5,
   "id": "1b70ca1d",
   "metadata": {},
   "outputs": [
    {
     "name": "stdout",
     "output_type": "stream",
     "text": [
      "[1, 2, 3, 4, 5, 6, [7, 8, 9]]\n"
     ]
    }
   ],
   "source": [
    "lst1=[1,2,3,4,5,6]\n",
    "lst2=[7,8,9]\n",
    "lst1.append(lst2)\n",
    "print(lst1)"
   ]
  },
  {
   "cell_type": "markdown",
   "id": "0137201d",
   "metadata": {},
   "source": [
    "## 2. Insert()\n",
    "    -To insert the element at specipic index position in list.\n",
    "    - if the element present multiple time in list then only first occurance will be remove\n",
    "    - syntax:\n",
    "                list_name.insert(index.value)"
   ]
  },
  {
   "cell_type": "code",
   "execution_count": 39,
   "id": "398e782e",
   "metadata": {},
   "outputs": [
    {
     "name": "stdout",
     "output_type": "stream",
     "text": [
      "[1, 2, 3, 4, 5, 6, 7, 8, 9]\n"
     ]
    }
   ],
   "source": [
    "lst1=[1,2,3,4,5,6]\n",
    "lst2=[7,8,9]\n",
    "a=6\n",
    "for i in range(0,3):\n",
    "    lst1.insert(a,lst2[i])\n",
    "    a=a+1\n",
    "print(lst1)"
   ]
  },
  {
   "cell_type": "code",
   "execution_count": 32,
   "id": "df16f8e6",
   "metadata": {},
   "outputs": [
    {
     "name": "stdout",
     "output_type": "stream",
     "text": [
      "[1, 2, 3, 4, 5, 0, 6]\n"
     ]
    }
   ],
   "source": [
    "lst=[1,2,3,4,5,6]\n",
    "lst.insert(-1,0)\n",
    "print(lst)"
   ]
  },
  {
   "cell_type": "markdown",
   "id": "ff190132",
   "metadata": {},
   "source": [
    "## 3.Extend()\n",
    "    - To add all element of one sequence to list\n",
    "    - append add total list at end extend add individual element at end\n",
    "    "
   ]
  },
  {
   "cell_type": "code",
   "execution_count": 40,
   "id": "882bf026",
   "metadata": {},
   "outputs": [
    {
     "name": "stdout",
     "output_type": "stream",
     "text": [
      "[1, 2, 3, 4, 5, 6]\n"
     ]
    }
   ],
   "source": [
    "lst1=[1,2,3]\n",
    "lst2=[4,5,6]\n",
    "lst1.extend(lst2)\n",
    "print(lst1)"
   ]
  },
  {
   "cell_type": "code",
   "execution_count": 45,
   "id": "50588c36",
   "metadata": {},
   "outputs": [
    {
     "name": "stdout",
     "output_type": "stream",
     "text": [
      "[1, 2, 3, 4, 'abc']\n"
     ]
    }
   ],
   "source": [
    "lst1=[1,2,3,4]\n",
    "str1='abc'\n",
    "lst1.append(str1)\n",
    "print(lst1)"
   ]
  },
  {
   "cell_type": "code",
   "execution_count": 44,
   "id": "40342979",
   "metadata": {},
   "outputs": [
    {
     "name": "stdout",
     "output_type": "stream",
     "text": [
      "[1, 2, 3, 4, 'a', 'b', 'c']\n"
     ]
    }
   ],
   "source": [
    "lst1=[1,2,3,4]\n",
    "str1='abc'\n",
    "lst1.extend(str1)\n",
    "print(lst1)"
   ]
  },
  {
   "cell_type": "markdown",
   "id": "83d72630",
   "metadata": {},
   "source": [
    "## 4.remove()\n",
    "    - use to remove elements in list\n",
    "    -if the element multiple times in the list only first occurance will be remove\n",
    "    -ifelement not n=found it will gives an error\n",
    "    - syntax: lst.remove(element)"
   ]
  },
  {
   "cell_type": "code",
   "execution_count": 47,
   "id": "e96263be",
   "metadata": {},
   "outputs": [
    {
     "name": "stdout",
     "output_type": "stream",
     "text": [
      "[1, 2, 3, 4, 5, 6, 7]\n"
     ]
    }
   ],
   "source": [
    "lst=[1,2,3,4,5,6,7,8]\n",
    "lst.remove(8)\n",
    "print(lst)"
   ]
  },
  {
   "cell_type": "markdown",
   "id": "d4376c8a",
   "metadata": {},
   "source": [
    "## 5.pop()\n",
    "    -It is used to remove element from list using index number.\n",
    "    -If index not mention it will remove last element of the list.\n",
    "    "
   ]
  },
  {
   "cell_type": "code",
   "execution_count": 51,
   "id": "2783aeae",
   "metadata": {},
   "outputs": [
    {
     "name": "stdout",
     "output_type": "stream",
     "text": [
      "[1, 2, 3, 4, 5]\n",
      "[1, 3, 4, 5]\n"
     ]
    }
   ],
   "source": [
    "lst=[1,2,3,4,5,6]\n",
    "lst.pop()\n",
    "print(lst)\n",
    "lst.pop(1)\n",
    "print(lst)"
   ]
  },
  {
   "cell_type": "markdown",
   "id": "02c94322",
   "metadata": {},
   "source": [
    "## 6.clear()`\n",
    "    -use to remove all elements from list\n",
    "    - list.clear()"
   ]
  },
  {
   "cell_type": "code",
   "execution_count": 53,
   "id": "66a4e46a",
   "metadata": {},
   "outputs": [
    {
     "name": "stdout",
     "output_type": "stream",
     "text": [
      "[1, 2, 3, 4, 5, 6, 7]\n",
      "[]\n"
     ]
    }
   ],
   "source": [
    "lst=[1,2,3,4,5,6,7]\n",
    "print(lst)\n",
    "lst.clear()\n",
    "print(lst)"
   ]
  },
  {
   "cell_type": "markdown",
   "id": "e4267ef9",
   "metadata": {},
   "source": [
    "## 7.copy()\n",
    "    - It will copy all elements from one list to another list.\n",
    "    - list1 = list2.copy()"
   ]
  },
  {
   "cell_type": "code",
   "execution_count": 59,
   "id": "9947d3fb",
   "metadata": {},
   "outputs": [
    {
     "name": "stdout",
     "output_type": "stream",
     "text": [
      "[1, 2, 3, 'python']\n",
      "[1, 2, 3, 'AI']\n",
      "[1, 2, 3, 'python']\n"
     ]
    }
   ],
   "source": [
    "list1=[1,2,3,'python']\n",
    "list2=list1.copy();#Deep copy\n",
    "print(list2)\n",
    "list2[3]='AI'\n",
    "print(list2)\n",
    "print(list1)#orignal string not changed"
   ]
  },
  {
   "cell_type": "code",
   "execution_count": 60,
   "id": "2a10ce94",
   "metadata": {},
   "outputs": [
    {
     "name": "stdout",
     "output_type": "stream",
     "text": [
      "[1, 2, 3, 'python']\n"
     ]
    }
   ],
   "source": [
    "list1=[1,2,3,'python']#shallow copy\n",
    "list2=list1\n",
    "print(list2)\n",
    "list2[3]='AI'\n"
   ]
  },
  {
   "cell_type": "markdown",
   "id": "aa50af3c",
   "metadata": {},
   "source": [
    " ### Shallow copy and Deep copy\n",
    " \n",
    "     - Shallo copy \n",
    "             -changes made in copy object also reflected in orignal object\n",
    "             -In shallow copy performing of orignal object is stored and only reffrance address is finally copy\n",
    "     - Deep copy\n",
    "             -There is no reflection on orignal object when changes made in copied object\n",
    "             -In deep copy copy of orignal object and the repetative copy both are stored"
   ]
  },
  {
   "cell_type": "code",
   "execution_count": null,
   "id": "9a1c7c3a",
   "metadata": {},
   "outputs": [],
   "source": []
  }
 ],
 "metadata": {
  "kernelspec": {
   "display_name": "Python 3 (ipykernel)",
   "language": "python",
   "name": "python3"
  },
  "language_info": {
   "codemirror_mode": {
    "name": "ipython",
    "version": 3
   },
   "file_extension": ".py",
   "mimetype": "text/x-python",
   "name": "python",
   "nbconvert_exporter": "python",
   "pygments_lexer": "ipython3",
   "version": "3.10.9"
  }
 },
 "nbformat": 4,
 "nbformat_minor": 5
}
