{
 "cells": [
  {
   "cell_type": "markdown",
   "id": "f314053c",
   "metadata": {},
   "source": [
    "## List\n",
    "                              List is collection of values stored in single and square bracket.\n",
    "                              List is enclosed in square bracket.\n",
    "                              List is heterogeneous no of datatypes stored in single list.\n",
    "                              List Allow Duplicate value.\n",
    "                              List insertion order is reserved.   \n",
    "                              List is Mutable\n",
    "                              List support indexing and slicing\n",
    "                              "
   ]
  },
  {
   "cell_type": "code",
   "execution_count": 1,
   "id": "f410fdf4",
   "metadata": {},
   "outputs": [
    {
     "name": "stdout",
     "output_type": "stream",
     "text": [
      "[10, 2.5, (6+5j), 'abc', True, [1, 2, 3], 'abc']\n"
     ]
    }
   ],
   "source": [
    "list1=[10,2.5,6+5j,'abc',True,[1,2,3],'abc']\n",
    "print(list1)"
   ]
  },
  {
   "cell_type": "code",
   "execution_count": 2,
   "id": "25a5ff57",
   "metadata": {},
   "outputs": [
    {
     "name": "stdout",
     "output_type": "stream",
     "text": [
      "[1, 2, 3, 4, 5, 6, 7, 8, 9, 10]\n"
     ]
    }
   ],
   "source": [
    "list1=list(range(1,11))\n",
    "print(list1)"
   ]
  },
  {
   "cell_type": "code",
   "execution_count": 3,
   "id": "2a5c9bd8",
   "metadata": {},
   "outputs": [
    {
     "name": "stdout",
     "output_type": "stream",
     "text": [
      "['F', 'U', 'E', 'L']\n"
     ]
    }
   ],
   "source": [
    "str1='FUEL'\n",
    "\n",
    "list2=list(str1)\n",
    "print(list2)"
   ]
  },
  {
   "cell_type": "markdown",
   "id": "3caa64e4",
   "metadata": {},
   "source": [
    "### Indexing"
   ]
  },
  {
   "cell_type": "code",
   "execution_count": 4,
   "id": "bf8fe53d",
   "metadata": {},
   "outputs": [
    {
     "data": {
      "text/plain": [
       "56"
      ]
     },
     "execution_count": 4,
     "metadata": {},
     "output_type": "execute_result"
    }
   ],
   "source": [
    "list3=[10,56,'FUEL',10+8j]\n",
    "list3[1]"
   ]
  },
  {
   "cell_type": "code",
   "execution_count": 7,
   "id": "6515f306",
   "metadata": {},
   "outputs": [
    {
     "data": {
      "text/plain": [
       "6"
      ]
     },
     "execution_count": 7,
     "metadata": {},
     "output_type": "execute_result"
    }
   ],
   "source": [
    "#Acess the element in nested list\n",
    "# acess 6\n",
    "list4=[[1,2],[3,4],[5,6]]\n",
    "list4[2][1]"
   ]
  },
  {
   "cell_type": "code",
   "execution_count": 29,
   "id": "7d3b9420",
   "metadata": {},
   "outputs": [
    {
     "name": "stdout",
     "output_type": "stream",
     "text": [
      "6\n",
      "13\n"
     ]
    }
   ],
   "source": [
    "list5=[[1,2],[3,4,[5,6,[7,11,15,13]]],[8,9]]\n",
    "print(list5[1][2][1])\n",
    "print(list5[1][2][2][3])\n"
   ]
  },
  {
   "cell_type": "markdown",
   "id": "efe33dc1",
   "metadata": {},
   "source": [
    "### Slicing in list\n",
    "         syntax:\n",
    "             \n",
    "               list_name[start_index : end_index : step]"
   ]
  },
  {
   "cell_type": "code",
   "execution_count": 38,
   "id": "d316265a",
   "metadata": {},
   "outputs": [
    {
     "name": "stdout",
     "output_type": "stream",
     "text": [
      "[14, 13, 10, 16, 20, 11]\n"
     ]
    }
   ],
   "source": [
    "list6=[10,11,12,14,13,10,16,20,11,23,17,22]\n",
    "print(list6[3:9])"
   ]
  },
  {
   "cell_type": "code",
   "execution_count": 40,
   "id": "e0007b39",
   "metadata": {},
   "outputs": [
    {
     "name": "stdout",
     "output_type": "stream",
     "text": [
      "[22, 17, 23, 11, 20, 16, 10, 13, 14, 12, 11, 10]\n"
     ]
    }
   ],
   "source": [
    "#reverse list\n",
    "print(list6[::-1])"
   ]
  },
  {
   "cell_type": "code",
   "execution_count": 44,
   "id": "bfc2ead1",
   "metadata": {},
   "outputs": [
    {
     "name": "stdout",
     "output_type": "stream",
     "text": [
      "[23, 11, 20, 16]\n"
     ]
    }
   ],
   "source": [
    "# print reverse 23 to 16\n",
    "print(list6[-3:-7:-1])"
   ]
  },
  {
   "cell_type": "code",
   "execution_count": 45,
   "id": "bda6175c",
   "metadata": {},
   "outputs": [
    {
     "name": "stdout",
     "output_type": "stream",
     "text": [
      "[20, 10, 14]\n"
     ]
    }
   ],
   "source": [
    "#print 20,10,14\n",
    "print(list6[-5:-11:-2])"
   ]
  },
  {
   "cell_type": "code",
   "execution_count": 8,
   "id": "9a0d5873",
   "metadata": {},
   "outputs": [
    {
     "name": "stdout",
     "output_type": "stream",
     "text": [
      "4\n"
     ]
    }
   ],
   "source": [
    "a=[5,5.5,'shiv']\n",
    "char=a[2]\n",
    "a=0;\n",
    "for i in char:\n",
    "    a=a+1\n",
    "print(a)\n",
    "    "
   ]
  },
  {
   "cell_type": "code",
   "execution_count": 18,
   "id": "57eec90b",
   "metadata": {},
   "outputs": [
    {
     "name": "stdout",
     "output_type": "stream",
     "text": [
      "divisible by four: [8, 12, 4, 44]\n"
     ]
    }
   ],
   "source": [
    "a=[10,8,12,33,11,4,45,44]\n",
    "list1=[]\n",
    "for i in a:\n",
    "    if(i%4==0):\n",
    "        list1.append(i)\n",
    "print('divisible by four:',list1)\n",
    "   "
   ]
  },
  {
   "cell_type": "code",
   "execution_count": 24,
   "id": "cf89191b",
   "metadata": {},
   "outputs": [
    {
     "name": "stdout",
     "output_type": "stream",
     "text": [
      "[]\n"
     ]
    }
   ],
   "source": [
    "a=[10,1.1,'sd']\n",
    "num=[]\n",
    "flo=[]\n",
    "ch=[]\n",
    "for i in a:\n",
    "    if(i==type(int)):\n",
    "        num.append(i)\n",
    "print(num)"
   ]
  },
  {
   "cell_type": "markdown",
   "id": "443aec83",
   "metadata": {},
   "source": [
    "### List Mutability"
   ]
  },
  {
   "cell_type": "code",
   "execution_count": 3,
   "id": "aeb39b8b",
   "metadata": {},
   "outputs": [
    {
     "name": "stdout",
     "output_type": "stream",
     "text": [
      "FUEL\n",
      "Python\n",
      "[10, 56, 'Python', (10+8j)]\n"
     ]
    }
   ],
   "source": [
    "list3=[10,56,'FUEL',10+8j]\n",
    "print(list3[2])\n",
    "#changing ele in list\n",
    "list3[2]='Python'\n",
    "print(list3[2])\n",
    "print(list3)"
   ]
  },
  {
   "cell_type": "code",
   "execution_count": 5,
   "id": "9dcda12b",
   "metadata": {},
   "outputs": [
    {
     "ename": "TypeError",
     "evalue": "'str' object does not support item assignment",
     "output_type": "error",
     "traceback": [
      "\u001b[1;31m---------------------------------------------------------------------------\u001b[0m",
      "\u001b[1;31mTypeError\u001b[0m                                 Traceback (most recent call last)",
      "Cell \u001b[1;32mIn[5], line 2\u001b[0m\n\u001b[0;32m      1\u001b[0m str1\u001b[38;5;241m=\u001b[39m\u001b[38;5;124m'\u001b[39m\u001b[38;5;124msaptesh\u001b[39m\u001b[38;5;124m'\u001b[39m\n\u001b[1;32m----> 2\u001b[0m str1[\u001b[38;5;241m0\u001b[39m]\u001b[38;5;241m=\u001b[39m\u001b[38;5;124m'\u001b[39m\u001b[38;5;124ma\u001b[39m\u001b[38;5;124m'\u001b[39m \u001b[38;5;66;03m# cant change string index\u001b[39;00m\n\u001b[0;32m      3\u001b[0m \u001b[38;5;28mprint\u001b[39m(str1)\n",
      "\u001b[1;31mTypeError\u001b[0m: 'str' object does not support item assignment"
     ]
    }
   ],
   "source": [
    "str1='saptesh'\n",
    "str1[0]='a' # cant change string index\n",
    "print(str1)"
   ]
  },
  {
   "cell_type": "code",
   "execution_count": 6,
   "id": "caf9abe4",
   "metadata": {},
   "outputs": [],
   "source": [
    "list1=[10,56,'FUEL',10+8j]"
   ]
  },
  {
   "cell_type": "code",
   "execution_count": 7,
   "id": "e4db46c5",
   "metadata": {},
   "outputs": [],
   "source": [
    "list2=list1 #list 1 copied into list 2"
   ]
  },
  {
   "cell_type": "code",
   "execution_count": 8,
   "id": "279c583e",
   "metadata": {},
   "outputs": [
    {
     "name": "stdout",
     "output_type": "stream",
     "text": [
      "[10, 56, 'FUEL', (10+8j)]\n"
     ]
    }
   ],
   "source": [
    "print(list2)"
   ]
  },
  {
   "cell_type": "code",
   "execution_count": 9,
   "id": "fd288e2e",
   "metadata": {},
   "outputs": [
    {
     "name": "stdout",
     "output_type": "stream",
     "text": [
      "[10, 56, 'python', (10+8j)]\n"
     ]
    }
   ],
   "source": [
    "list2[2]='python' #changing copied list 2\n",
    "print(list2)"
   ]
  },
  {
   "cell_type": "code",
   "execution_count": 10,
   "id": "002576d0",
   "metadata": {},
   "outputs": [
    {
     "name": "stdout",
     "output_type": "stream",
     "text": [
      "[10, 56, 'python', (10+8j)]\n"
     ]
    }
   ],
   "source": [
    "print(list1)  #but that affect list 1"
   ]
  },
  {
   "cell_type": "code",
   "execution_count": 12,
   "id": "3ce45b00",
   "metadata": {},
   "outputs": [
    {
     "name": "stdout",
     "output_type": "stream",
     "text": [
      "1218641776448\n",
      "1218641776448\n"
     ]
    }
   ],
   "source": [
    "print(id(list1)) #both list one and two has same refferance of objects\n",
    "print(id(list2))"
   ]
  },
  {
   "cell_type": "markdown",
   "id": "41999af8",
   "metadata": {},
   "source": [
    "### Traversing in list"
   ]
  },
  {
   "cell_type": "code",
   "execution_count": 16,
   "id": "6324da8f",
   "metadata": {},
   "outputs": [
    {
     "name": "stdout",
     "output_type": "stream",
     "text": [
      "18 20 22 24 "
     ]
    }
   ],
   "source": [
    "list1=[11,12,13,14,15,16,17,18,19,20,21,22,23,24,25]\n",
    "for i in list1:\n",
    "    if i%2==0 and i>16:\n",
    "        print(i,end=\" \")\n",
    "    "
   ]
  },
  {
   "cell_type": "code",
   "execution_count": null,
   "id": "0efe357a",
   "metadata": {},
   "outputs": [],
   "source": []
  }
 ],
 "metadata": {
  "kernelspec": {
   "display_name": "Python 3 (ipykernel)",
   "language": "python",
   "name": "python3"
  },
  "language_info": {
   "codemirror_mode": {
    "name": "ipython",
    "version": 3
   },
   "file_extension": ".py",
   "mimetype": "text/x-python",
   "name": "python",
   "nbconvert_exporter": "python",
   "pygments_lexer": "ipython3",
   "version": "3.10.9"
  }
 },
 "nbformat": 4,
 "nbformat_minor": 5
}
