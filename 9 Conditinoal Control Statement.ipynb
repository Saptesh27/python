{
 "cells": [
  {
   "cell_type": "markdown",
   "id": "81b74047",
   "metadata": {},
   "source": [
    "# Control Statement\n",
    "## - There Are Three Types\n",
    "### 1) Conditional Control Statement\n",
    "### 2) Loop Control Statement\n",
    "### 3) Control Transfer Statement"
   ]
  },
  {
   "cell_type": "markdown",
   "id": "095b53ad",
   "metadata": {},
   "source": [
    "## -----------------------------------------------------------------------------------------------------"
   ]
  },
  {
   "cell_type": "markdown",
   "id": "4cae4d78",
   "metadata": {},
   "source": [
    "## 1) Conditinoal Control Statement\n",
    "- On particular condition it is going to decide wheather next statement need to execute or not.\n",
    "- If condition is satisfied it will execute or else it will not\n",
    "\n",
    "   ### 1. If () statement\n",
    "   ### 2. If else () statement\n",
    "   ### 3. If elif else () statement\n",
    "   ### 4. Nested if else () statement"
   ]
  },
  {
   "cell_type": "markdown",
   "id": "8e5a5989",
   "metadata": {},
   "source": [
    "### 1. If Statement\n"
   ]
  },
  {
   "cell_type": "code",
   "execution_count": 16,
   "id": "3cfd7bc1",
   "metadata": {},
   "outputs": [
    {
     "name": "stdout",
     "output_type": "stream",
     "text": [
      "Enter 1st number: 2\n",
      "Enter 2nd number:1\n",
      "First number is grater\n",
      "Program executed succesfully\n"
     ]
    }
   ],
   "source": [
    "no1 = eval(input('Enter 1st number: '))\n",
    "no2 = eval(input('Enter 2nd number:'))\n",
    "if no1 > no2:\n",
    "    print('First number is grater')\n",
    "print('Program executed succesfully')"
   ]
  },
  {
   "cell_type": "code",
   "execution_count": 12,
   "id": "316fd69e",
   "metadata": {},
   "outputs": [
    {
     "name": "stdout",
     "output_type": "stream",
     "text": [
      "Hi\n"
     ]
    }
   ],
   "source": [
    "a='0'\n",
    "if a:\n",
    "    print(\"Hi\")"
   ]
  },
  {
   "cell_type": "markdown",
   "id": "c1e4e82c",
   "metadata": {},
   "source": [
    "### 2. if else statement\n",
    "- If condition is true it will execute if block\n",
    "- or condition is true then it will execute else block"
   ]
  },
  {
   "cell_type": "code",
   "execution_count": 20,
   "id": "d7af486a",
   "metadata": {},
   "outputs": [
    {
     "name": "stdout",
     "output_type": "stream",
     "text": [
      "Enter 1st number: 1\n",
      "Enter 2nd number:2\n",
      "2 number is grater\n",
      "Program executed succesfully\n"
     ]
    }
   ],
   "source": [
    "no1 = eval(input('Enter 1st number: '))\n",
    "no2 = eval(input('Enter 2nd number:'))\n",
    "if no1 > no2:\n",
    "    \n",
    "    print(f'{no1} number is grater')\n",
    "    \n",
    "else:\n",
    "    print(f'{no2} number is grater')\n",
    "    \n",
    "print('Program executed succesfully')"
   ]
  },
  {
   "cell_type": "markdown",
   "id": "6b58cb28",
   "metadata": {},
   "source": [
    "### 3. if elif else\n",
    "- when we have multiple condition to check we use this statemenr any one statement will be executed from if elif or else block"
   ]
  },
  {
   "cell_type": "code",
   "execution_count": 23,
   "id": "d5df6c45",
   "metadata": {},
   "outputs": [
    {
     "name": "stdout",
     "output_type": "stream",
     "text": [
      "Enter 1st number: 1\n",
      "Enter 2nd number:1\n",
      "1 1 both are equal\n",
      "Program executed succesfully\n"
     ]
    }
   ],
   "source": [
    "no1 = eval(input('Enter 1st number: '))\n",
    "no2 = eval(input('Enter 2nd number:'))\n",
    "if no1 > no2:\n",
    "    \n",
    "    print('{} number is grater'.format(no1))\n",
    "    \n",
    "elif no1 < no2:\n",
    "    print('{} number is grater'.format(no2))\n",
    "    \n",
    "else:\n",
    "    \n",
    "    print('{} {} both are equal'.format(no1,no2))\n",
    "    \n",
    "print('Program executed succesfully')"
   ]
  },
  {
   "cell_type": "markdown",
   "id": "94055295",
   "metadata": {},
   "source": [
    "### 4. Nested if"
   ]
  },
  {
   "cell_type": "code",
   "execution_count": 26,
   "id": "2ffd69cd",
   "metadata": {},
   "outputs": [
    {
     "name": "stdout",
     "output_type": "stream",
     "text": [
      "Enter 1st number: 33\n",
      "Num is less than 100\n",
      "Num is less than 50\n",
      "Num is grater than 25\n"
     ]
    }
   ],
   "source": [
    "no1 = eval(input('Enter 1st number: '))\n",
    "if no1 < 100:\n",
    "    print('Num is less than 100')\n",
    "    if no1 < 50:\n",
    "        print('Num is less than 50')\n",
    "        if no1 < 25:\n",
    "            print('Num is less than 25')\n",
    "            if no1 < 10:\n",
    "                print('Num is less than 10')\n",
    "            else:\n",
    "                print('Num is grater than 10')\n",
    "        else:\n",
    "            print('Num is grater than 25')\n",
    "    else:\n",
    "        print('Num is grater than 50')\n",
    "else:\n",
    "    print('Number is grater than 100')\n",
    "    "
   ]
  },
  {
   "cell_type": "code",
   "execution_count": 38,
   "id": "caeec0eb",
   "metadata": {},
   "outputs": [
    {
     "name": "stdout",
     "output_type": "stream",
     "text": [
      "Enter 1st number: 1\n",
      "Enter 2nd number:1\n",
      "Enter 3rd number: 1\n",
      "1 1 1 are equal\n"
     ]
    }
   ],
   "source": [
    "# check grater number in three numbers\n",
    "a = eval(input('Enter 1st number: '))\n",
    "b = eval(input('Enter 2nd number:'))\n",
    "c = eval(input('Enter 3rd number: '))\n",
    "\n",
    "if (a>b) and (a>c):\n",
    "    print(f'{a} First is grater')\n",
    "elif (b>a) and (b>c):\n",
    "    print(f'{b} Second is grater')\n",
    "elif (c>a) and (c>b):\n",
    "    print(f'{c} Third is grater')\n",
    "else:\n",
    "    print(f'{a} {b} {c} are equal')"
   ]
  },
  {
   "cell_type": "code",
   "execution_count": 40,
   "id": "0332229a",
   "metadata": {},
   "outputs": [
    {
     "name": "stdout",
     "output_type": "stream",
     "text": [
      "Leap Year\n"
     ]
    }
   ],
   "source": [
    "# Python program to check leap year or not\n",
    "def checkYear(year):\n",
    "\tif (year % 4) == 0:\n",
    "\t\tif (year % 100) == 0:\n",
    "\t\t\tif (year % 400) == 0:\n",
    "\t\t\t\treturn True\n",
    "\t\t\telse:\n",
    "\t\t\t\treturn False\n",
    "\t\telse:\n",
    "\t\t\treturn True\n",
    "\telse:\n",
    "\t\treturn False\n",
    "\n",
    "# Driver Code\n",
    "year = 2000\n",
    "if(checkYear(year)):\n",
    "\tprint(\"Leap Year\")\n",
    "else:\n",
    "\tprint(\"Not a Leap Year\")\n",
    "\t\n",
    "# This code is contributed by Chinmoy Lenka\n"
   ]
  },
  {
   "cell_type": "code",
   "execution_count": 52,
   "id": "049cc584",
   "metadata": {},
   "outputs": [
    {
     "name": "stdout",
     "output_type": "stream",
     "text": [
      "Enter the number: 4\n",
      "Given Year is a leap Year\n"
     ]
    }
   ],
   "source": [
    "def CheckLeap(Year):  \n",
    "  # Checking if the given year is leap year  \n",
    "  if((Year % 400 == 0) or  \n",
    "     (Year % 100 != 0) and  \n",
    "     (Year % 4 == 0)):   \n",
    "    print(\"Given Year is a leap Year\");  \n",
    "  # Else it is not a leap year  \n",
    "  else:  \n",
    "    print (\"Given Year is not a leap Year\")  \n",
    "# Taking an input year from user  \n",
    "Year = int(input(\"Enter the number: \"))  \n",
    "# Printing result  \n",
    "CheckLeap(Year)"
   ]
  },
  {
   "cell_type": "code",
   "execution_count": 47,
   "id": "f457385c",
   "metadata": {},
   "outputs": [
    {
     "name": "stdout",
     "output_type": "stream",
     "text": [
      "Enter Marks:101\n",
      "Invalid Input\n"
     ]
    }
   ],
   "source": [
    "marks=eval(input('Enter Marks:'))\n",
    "if marks<=100 and marks>=80:\n",
    "    print('A GRADE')\n",
    "elif marks<=80 and marks>=60:\n",
    "    print('B GRADE')\n",
    "elif marks<=60 and marks>=40:\n",
    "    print('C GRADE')\n",
    "elif marks<=40 and marks>=20:\n",
    "    print('D GRADE')\n",
    "elif marks<=20 and marks>=0:\n",
    "    print('E GRADE')\n",
    "else:\n",
    "    print('Invalid Input')"
   ]
  },
  {
   "cell_type": "code",
   "execution_count": 11,
   "id": "70427b4e",
   "metadata": {},
   "outputs": [
    {
     "name": "stdout",
     "output_type": "stream",
     "text": [
      "Input triangle sides: \n",
      "x: 3\n",
      "y: 4\n",
      "z: 5\n",
      "right angle triangle\n"
     ]
    }
   ],
   "source": [
    "print(\"Input triangle sides: \")\n",
    "x = int(input(\"x: \"))\n",
    "y = int(input(\"y: \"))\n",
    "z = int(input(\"z: \"))\n",
    "\n",
    "if x == y == z:\n",
    "    print(\"Equilateral triangle\")\n",
    "elif x==y or y==z or z==x:\n",
    "    print(\"isosceles triangle\")\n",
    "elif (x*x+y*y)==(z*z) or (x*x+z*z)==(y*y) or (y*y+z*z==x*x):\n",
    "    print(\"right angle triangle\") \n",
    "else:\n",
    "    print(\"Scalene triangle\")\n"
   ]
  },
  {
   "cell_type": "code",
   "execution_count": null,
   "id": "a0d3718a",
   "metadata": {},
   "outputs": [],
   "source": []
  }
 ],
 "metadata": {
  "kernelspec": {
   "display_name": "Python 3 (ipykernel)",
   "language": "python",
   "name": "python3"
  },
  "language_info": {
   "codemirror_mode": {
    "name": "ipython",
    "version": 3
   },
   "file_extension": ".py",
   "mimetype": "text/x-python",
   "name": "python",
   "nbconvert_exporter": "python",
   "pygments_lexer": "ipython3",
   "version": "3.10.9"
  }
 },
 "nbformat": 4,
 "nbformat_minor": 5
}
