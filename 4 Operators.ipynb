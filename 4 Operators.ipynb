{
 "cells": [
  {
   "cell_type": "markdown",
   "id": "bdd1058c",
   "metadata": {},
   "source": [
    "# Types Of Operators\n",
    "\n",
    "**1.Arithmetic Operator(+,-,*,/,//,%,**(power operator))\n",
    "**2.Relatinoal Operator(<,>,<=,>=,==,!=)\n",
    "**3.Logical Operator(and,or,not)\n"
   ]
  }
 ],
 "metadata": {
  "kernelspec": {
   "display_name": "Python 3 (ipykernel)",
   "language": "python",
   "name": "python3"
  },
  "language_info": {
   "codemirror_mode": {
    "name": "ipython",
    "version": 3
   },
   "file_extension": ".py",
   "mimetype": "text/x-python",
   "name": "python",
   "nbconvert_exporter": "python",
   "pygments_lexer": "ipython3",
   "version": "3.10.9"
  }
 },
 "nbformat": 4,
 "nbformat_minor": 5
}
