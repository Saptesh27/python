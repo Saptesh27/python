{
 "cells": [
  {
   "cell_type": "markdown",
   "id": "48a75706",
   "metadata": {},
   "source": [
    "# Data Type\n",
    "\n",
    "1.Numeric Data Type: a. int(- inf to + inf)\n",
    "                     b. float(- inf decimal to + inf decimal)\n",
    "                     c. complex(it is combination of real number and imaginary number)\n",
    "\n",
    "2.Text Data Type: a. String\n",
    "\n",
    "3.Sequence Data Type: List,Tupple,Range \n",
    "                      a. List[ ]\n",
    "                              List is collection of values stored in single and square bracket.\n",
    "                              List is enclosed in square bracket.\n",
    "                              List is heterogeneous no of datatypes stored in single list.\n",
    "                              List Allow Duplicate value.\n",
    "                              List insertion order is reserved.   \n",
    "                              List is Mutable\n",
    "                              List support indexing and slicing\n",
    "                       b. Tupple()\n",
    "                              Tupple is enclosed in round bracket.\n",
    "                              Tupple is immutable.\n",
    "                              Same As List but enclosed in bracket and unchangeble.\n",
    "                       c. Range()\n",
    "                               Range is the \n",
    "                       \n",
    "4.Mapping Data Type: Dictionary\n",
    "                       a.Dictionary{key:pair,}\n",
    "                           Enclosed in curly brackets{}.\n",
    "                           key and values stored in dictionary.\n",
    "                           Dictionaries are used to store data values in key:value pairs and seprated by comma ,\n",
    "                           \n",
    "5.Set Types: set is mutable and frozen set are imutable.\n",
    "                      a.Set{}\n",
    "                          Set is enclosed in curly brackets{}.\n",
    "                          Duplicate are not Allowed in this only unique values are stored.\n",
    "                          Insertion order is not preserved.\n",
    "                          *unique values are enclosed in curly brackets and duplicate not allowed.*\n",
    "                      b.Frozen set:({  })\n",
    "                          enclosed in round brackets.\n",
    "                          \n",
    "6.Boolean Data Type:\n",
    "                    a.bool:\n",
    "                    Store only true or false\n",
    "\n",
    "                              \n",
    "                              \n",
    "                              \n"
   ]
  },
  {
   "cell_type": "code",
   "execution_count": 1,
   "id": "6aeb4fdd",
   "metadata": {},
   "outputs": [
    {
     "data": {
      "text/plain": [
       "int"
      ]
     },
     "execution_count": 1,
     "metadata": {},
     "output_type": "execute_result"
    }
   ],
   "source": [
    "a=-63546\n",
    "type(a)"
   ]
  },
  {
   "cell_type": "code",
   "execution_count": 2,
   "id": "0f022288",
   "metadata": {},
   "outputs": [
    {
     "data": {
      "text/plain": [
       "float"
      ]
     },
     "execution_count": 2,
     "metadata": {},
     "output_type": "execute_result"
    }
   ],
   "source": [
    "b=2.343\n",
    "type(b)"
   ]
  },
  {
   "cell_type": "code",
   "execution_count": 3,
   "id": "f1894f30",
   "metadata": {},
   "outputs": [
    {
     "data": {
      "text/plain": [
       "complex"
      ]
     },
     "execution_count": 3,
     "metadata": {},
     "output_type": "execute_result"
    }
   ],
   "source": [
    "c=3+4j\n",
    "type(c)"
   ]
  },
  {
   "cell_type": "code",
   "execution_count": 4,
   "id": "b32be271",
   "metadata": {},
   "outputs": [
    {
     "data": {
      "text/plain": [
       "str"
      ]
     },
     "execution_count": 4,
     "metadata": {},
     "output_type": "execute_result"
    }
   ],
   "source": [
    "name='Saptesh'\n",
    "type(name)\n"
   ]
  },
  {
   "cell_type": "code",
   "execution_count": 5,
   "id": "1565deab",
   "metadata": {},
   "outputs": [
    {
     "data": {
      "text/plain": [
       "str"
      ]
     },
     "execution_count": 5,
     "metadata": {},
     "output_type": "execute_result"
    }
   ],
   "source": [
    "d='a+2'\n",
    "type(d)"
   ]
  },
  {
   "cell_type": "code",
   "execution_count": 6,
   "id": "5b4ad2db",
   "metadata": {},
   "outputs": [
    {
     "data": {
      "text/plain": [
       "str"
      ]
     },
     "execution_count": 6,
     "metadata": {},
     "output_type": "execute_result"
    }
   ],
   "source": [
    "d=\"234fddfds\"\n",
    "type(d)"
   ]
  },
  {
   "cell_type": "code",
   "execution_count": 7,
   "id": "c72454d0",
   "metadata": {},
   "outputs": [
    {
     "data": {
      "text/plain": [
       "str"
      ]
     },
     "execution_count": 7,
     "metadata": {},
     "output_type": "execute_result"
    }
   ],
   "source": [
    "d='\"saptesh.1921\"'\n",
    "type(d)"
   ]
  },
  {
   "cell_type": "code",
   "execution_count": 12,
   "id": "0b48dcdd",
   "metadata": {},
   "outputs": [
    {
     "data": {
      "text/plain": [
       "list"
      ]
     },
     "execution_count": 12,
     "metadata": {},
     "output_type": "execute_result"
    }
   ],
   "source": [
    "lst=[1,2,3,'abc']\n",
    "type(lst)"
   ]
  },
  {
   "cell_type": "code",
   "execution_count": 14,
   "id": "33008f3c",
   "metadata": {},
   "outputs": [
    {
     "data": {
      "text/plain": [
       "tuple"
      ]
     },
     "execution_count": 14,
     "metadata": {},
     "output_type": "execute_result"
    }
   ],
   "source": [
    "tup=(1,'abc',1,3+4j)\n",
    "type(tup)"
   ]
  },
  {
   "cell_type": "code",
   "execution_count": 16,
   "id": "16382da2",
   "metadata": {},
   "outputs": [
    {
     "data": {
      "text/plain": [
       "range"
      ]
     },
     "execution_count": 16,
     "metadata": {},
     "output_type": "execute_result"
    }
   ],
   "source": [
    "a=range(1,10)\n",
    "type(a)"
   ]
  },
  {
   "cell_type": "code",
   "execution_count": 20,
   "id": "b4d2d04a",
   "metadata": {},
   "outputs": [
    {
     "data": {
      "text/plain": [
       "dict"
      ]
     },
     "execution_count": 20,
     "metadata": {},
     "output_type": "execute_result"
    }
   ],
   "source": [
    "d={\n",
    "    'name':'saptesh',\n",
    "    'roll':31\n",
    "}\n",
    "\n",
    "type(d)"
   ]
  },
  {
   "cell_type": "code",
   "execution_count": 23,
   "id": "4cb5d8ea",
   "metadata": {},
   "outputs": [
    {
     "data": {
      "text/plain": [
       "{1, 123, 2, 3, 'abc'}"
      ]
     },
     "execution_count": 23,
     "metadata": {},
     "output_type": "execute_result"
    }
   ],
   "source": [
    "s={1,2,3,(123),'abc','abc'}\n",
    "s\n"
   ]
  },
  {
   "cell_type": "code",
   "execution_count": 24,
   "id": "407c130d",
   "metadata": {},
   "outputs": [
    {
     "data": {
      "text/plain": [
       "frozenset({1, 123, 2, 3, 'abc'})"
      ]
     },
     "execution_count": 24,
     "metadata": {},
     "output_type": "execute_result"
    }
   ],
   "source": [
    "f=frozenset(s)\n",
    "f"
   ]
  },
  {
   "cell_type": "code",
   "execution_count": 25,
   "id": "cca430a2",
   "metadata": {},
   "outputs": [
    {
     "data": {
      "text/plain": [
       "bool"
      ]
     },
     "execution_count": 25,
     "metadata": {},
     "output_type": "execute_result"
    }
   ],
   "source": [
    "a=True\n",
    "type(a)"
   ]
  },
  {
   "cell_type": "code",
   "execution_count": null,
   "id": "f333ccab",
   "metadata": {},
   "outputs": [],
   "source": []
  }
 ],
 "metadata": {
  "kernelspec": {
   "display_name": "Python 3 (ipykernel)",
   "language": "python",
   "name": "python3"
  },
  "language_info": {
   "codemirror_mode": {
    "name": "ipython",
    "version": 3
   },
   "file_extension": ".py",
   "mimetype": "text/x-python",
   "name": "python",
   "nbconvert_exporter": "python",
   "pygments_lexer": "ipython3",
   "version": "3.10.9"
  }
 },
 "nbformat": 4,
 "nbformat_minor": 5
}
