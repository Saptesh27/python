{
 "cells": [
  {
   "cell_type": "markdown",
   "id": "8c8e0bd8",
   "metadata": {},
   "source": [
    "# Output"
   ]
  },
  {
   "cell_type": "code",
   "execution_count": 10,
   "id": "18ce31d5",
   "metadata": {},
   "outputs": [
    {
     "name": "stdout",
     "output_type": "stream",
     "text": [
      "message variable Expression\n"
     ]
    }
   ],
   "source": [
    "print('message','variable','Expression')"
   ]
  },
  {
   "cell_type": "code",
   "execution_count": 9,
   "id": "a46bef90",
   "metadata": {},
   "outputs": [
    {
     "name": "stdout",
     "output_type": "stream",
     "text": [
      "addition of two number 30\n"
     ]
    }
   ],
   "source": [
    "a=10\n",
    "b=20\n",
    "c=a+b\n",
    "print('addition of two number',c)"
   ]
  },
  {
   "cell_type": "code",
   "execution_count": 11,
   "id": "4c2d539b",
   "metadata": {},
   "outputs": [
    {
     "name": "stdout",
     "output_type": "stream",
     "text": [
      "first number is 10\n",
      "second number is  20\n",
      "addition of 10 and 20 number is 30\n"
     ]
    }
   ],
   "source": [
    "a=10\n",
    "b=20\n",
    "c=a+b\n",
    "print('first number is',a)\n",
    "print('second number is ',b)\n",
    "print('addition of 10 and 20 number is',c)"
   ]
  },
  {
   "cell_type": "markdown",
   "id": "0bdc91dd",
   "metadata": {},
   "source": [
    "# print statement by using f string\n"
   ]
  },
  {
   "cell_type": "code",
   "execution_count": 18,
   "id": "8915ce63",
   "metadata": {},
   "outputs": [
    {
     "name": "stdout",
     "output_type": "stream",
     "text": [
      "first number is 300\n",
      "second number is  200\n",
      "addition of 300 and 200 number is 500\n"
     ]
    }
   ],
   "source": [
    "a=300\n",
    "b=200\n",
    "c=a+b\n",
    "print(f'first number is {a}')\n",
    "print(f'second number is  {b}')\n",
    "print(f'addition of {a} and {b} number is {c}')"
   ]
  },
  {
   "cell_type": "markdown",
   "id": "acdfb0de",
   "metadata": {},
   "source": [
    "# Using Format Function In Print"
   ]
  },
  {
   "cell_type": "markdown",
   "id": "03e464bd",
   "metadata": {},
   "source": [
    "### print{ ' statement {}statement continue  '. format (var) }"
   ]
  },
  {
   "cell_type": "code",
   "execution_count": 20,
   "id": "678e6868",
   "metadata": {},
   "outputs": [
    {
     "name": "stdout",
     "output_type": "stream",
     "text": [
      "first number is 30\n",
      "second number is 20\n",
      "addition of 30 and 20 number is 50\n"
     ]
    }
   ],
   "source": [
    "a=30\n",
    "b=20\n",
    "c=a+b\n",
    "print('first number is {}'.format(a))\n",
    "print('second number is {}'.format(b))\n",
    "print('addition of {} and {} number is {}'.format(a,b,c))"
   ]
  },
  {
   "cell_type": "markdown",
   "id": "181fc580",
   "metadata": {},
   "source": [
    "### we can pass index number inside"
   ]
  },
  {
   "cell_type": "code",
   "execution_count": 21,
   "id": "08a6c858",
   "metadata": {},
   "outputs": [
    {
     "name": "stdout",
     "output_type": "stream",
     "text": [
      "first number is 30\n",
      "second number is 20\n",
      "addition of 30 and 20 number is 50\n"
     ]
    }
   ],
   "source": [
    "a=30\n",
    "b=20\n",
    "c=a+b\n",
    "print('first number is {}'.format(a))\n",
    "print('second number is {}'.format(b))\n",
    "print('addition of {1} and {2} number is {0}'.format(c,a,b))"
   ]
  },
  {
   "cell_type": "markdown",
   "id": "a371dace",
   "metadata": {},
   "source": [
    "# Input Function"
   ]
  },
  {
   "cell_type": "code",
   "execution_count": 37,
   "id": "9765118a",
   "metadata": {},
   "outputs": [
    {
     "name": "stdout",
     "output_type": "stream",
     "text": [
      "Enter a 1\n",
      "Enter b 2\n",
      "3\n"
     ]
    }
   ],
   "source": [
    "b=int(input('Enter a '))\n",
    "a=int(input('Enter b '))\n",
    "print(a+b)"
   ]
  },
  {
   "cell_type": "code",
   "execution_count": 43,
   "id": "eee24d21",
   "metadata": {},
   "outputs": [
    {
     "name": "stdout",
     "output_type": "stream",
     "text": [
      "12\n"
     ]
    },
    {
     "data": {
      "text/plain": [
       "int"
      ]
     },
     "execution_count": 43,
     "metadata": {},
     "output_type": "execute_result"
    }
   ],
   "source": [
    "num=int(input())\n",
    "type(num)"
   ]
  },
  {
   "cell_type": "markdown",
   "id": "a0ce3738",
   "metadata": {},
   "source": [
    "# Eval function\n",
    "\n",
    "## when we pass any number input function take imput as string but using eval the input automatic convert data type into entered value type\n",
    "\n",
    "## convert to respected data type."
   ]
  },
  {
   "cell_type": "code",
   "execution_count": 47,
   "id": "59bf0815",
   "metadata": {},
   "outputs": [
    {
     "name": "stdout",
     "output_type": "stream",
     "text": [
      "Enter a 1\n",
      "Enter b 1\n",
      "11\n"
     ]
    }
   ],
   "source": [
    "#withot eval\n",
    "\n",
    "a=input('Enter a ')\n",
    "b=input('Enter b ')\n",
    "print(a+b)"
   ]
  },
  {
   "cell_type": "code",
   "execution_count": 51,
   "id": "3c0000aa",
   "metadata": {},
   "outputs": [
    {
     "name": "stdout",
     "output_type": "stream",
     "text": [
      "Enter a 1\n",
      "Enter b 1\n",
      "2\n"
     ]
    }
   ],
   "source": [
    "#using eval\n",
    "b=eval(input('Enter a '))\n",
    "a=eval(input('Enter b '))\n",
    "print(a+b)"
   ]
  },
  {
   "cell_type": "code",
   "execution_count": 56,
   "id": "c8e67de7",
   "metadata": {},
   "outputs": [
    {
     "name": "stdout",
     "output_type": "stream",
     "text": [
      "Enter the radius 5\n",
      "Area is 78.5\n"
     ]
    }
   ],
   "source": [
    "#area of circle\n",
    "rad=int(input('Enter the radius '))\n",
    "pi=3.14\n",
    "area=pi*rad*rad\n",
    "print('Area is',area)"
   ]
  },
  {
   "cell_type": "code",
   "execution_count": null,
   "id": "348773bf",
   "metadata": {},
   "outputs": [],
   "source": [
    "5\n"
   ]
  }
 ],
 "metadata": {
  "kernelspec": {
   "display_name": "Python 3 (ipykernel)",
   "language": "python",
   "name": "python3"
  },
  "language_info": {
   "codemirror_mode": {
    "name": "ipython",
    "version": 3
   },
   "file_extension": ".py",
   "mimetype": "text/x-python",
   "name": "python",
   "nbconvert_exporter": "python",
   "pygments_lexer": "ipython3",
   "version": "3.10.9"
  }
 },
 "nbformat": 4,
 "nbformat_minor": 5
}
