{
 "cells": [
  {
   "cell_type": "markdown",
   "id": "cf51afa3",
   "metadata": {},
   "source": [
    "## String Functions\n"
   ]
  },
  {
   "cell_type": "markdown",
   "id": "285a5e02",
   "metadata": {},
   "source": [
    "1. capitalize (): It convert first letter of string in uppercase and all remaning string in lower case\n",
    "2. title (): It convert first charechter of every letter uppercase in string\n",
    "3. upper(): convert total string into uppercase.\n",
    "4. swapcase(): conver uppercase letter into lowercase and lowercase to uppercase\n",
    "5. lstrip(): It will remove the whitespaces from left side of string."
   ]
  },
  {
   "cell_type": "markdown",
   "id": "596e47f5",
   "metadata": {},
   "source": [
    "### 1. Capitalize()\n",
    "\n",
    "It convert first letter of string in uppercase and all remaning string in lower case\n",
    "\n",
    "Syntax: string.capitalize()"
   ]
  },
  {
   "cell_type": "code",
   "execution_count": 3,
   "id": "8272e02e",
   "metadata": {},
   "outputs": [
    {
     "name": "stdout",
     "output_type": "stream",
     "text": [
      "Rcp imrd\n"
     ]
    }
   ],
   "source": [
    "str1='rcp IMRD'\n",
    "print(str1.capitalize())"
   ]
  },
  {
   "cell_type": "markdown",
   "id": "8a4b9f4f",
   "metadata": {},
   "source": [
    "### 2. tiitle(): \n",
    "it convert first letter of every letter uppercase in string    \n",
    "    Syntax: string.tittle()"
   ]
  },
  {
   "cell_type": "code",
   "execution_count": 6,
   "id": "38824244",
   "metadata": {},
   "outputs": [
    {
     "name": "stdout",
     "output_type": "stream",
     "text": [
      "Saptesh Anil Dhakare\n"
     ]
    }
   ],
   "source": [
    "str2='saptesh anil dhakare'\n",
    "print(str2.title())"
   ]
  },
  {
   "cell_type": "markdown",
   "id": "2cbfc8b8",
   "metadata": {},
   "source": [
    "### 3.Upper ():\n",
    "it convert all string in upper case...\n",
    "syntax:\n",
    " string.upper()"
   ]
  },
  {
   "cell_type": "code",
   "execution_count": 7,
   "id": "0270384b",
   "metadata": {},
   "outputs": [
    {
     "name": "stdout",
     "output_type": "stream",
     "text": [
      "SAPTESH DHAKARE\n"
     ]
    }
   ],
   "source": [
    "str3='saptesh dhakare'\n",
    "print(str3.upper())"
   ]
  },
  {
   "cell_type": "markdown",
   "id": "e7827f6b",
   "metadata": {},
   "source": [
    "### 4.swapcase ():\n",
    "it will convert uppercase to lowercase and lower case to uppecase...\n",
    "syntax: \n",
    "    str.swapcase()"
   ]
  },
  {
   "cell_type": "code",
   "execution_count": 9,
   "id": "954144e6",
   "metadata": {},
   "outputs": [
    {
     "name": "stdout",
     "output_type": "stream",
     "text": [
      "sAPTESH aNIL dHAKARE\n"
     ]
    }
   ],
   "source": [
    "str4='Saptesh Anil Dhakare'\n",
    "print(str4.swapcase())"
   ]
  },
  {
   "cell_type": "markdown",
   "id": "81a3cc78",
   "metadata": {},
   "source": [
    "### 5. lstrip (): \n",
    "\n",
    "Remove white spaces from left side."
   ]
  },
  {
   "cell_type": "code",
   "execution_count": 15,
   "id": "8953de63",
   "metadata": {},
   "outputs": [
    {
     "name": "stdout",
     "output_type": "stream",
     "text": [
      "     saptesh\n"
     ]
    }
   ],
   "source": [
    "username='     saptesh'\n",
    "print(username)"
   ]
  },
  {
   "cell_type": "code",
   "execution_count": 11,
   "id": "8c3f4808",
   "metadata": {},
   "outputs": [
    {
     "name": "stdout",
     "output_type": "stream",
     "text": [
      "saptesh\n"
     ]
    }
   ],
   "source": [
    "print(username.lstrip())"
   ]
  },
  {
   "cell_type": "markdown",
   "id": "af4db20c",
   "metadata": {},
   "source": [
    "###  6. rstrip ():\n"
   ]
  },
  {
   "cell_type": "markdown",
   "id": "cc858940",
   "metadata": {},
   "source": [
    "Remove right white spaces from strings."
   ]
  },
  {
   "cell_type": "code",
   "execution_count": 18,
   "id": "227affd5",
   "metadata": {},
   "outputs": [
    {
     "name": "stdout",
     "output_type": "stream",
     "text": [
      "saptesh\n"
     ]
    }
   ],
   "source": [
    "username='saptesh         '\n",
    "print(username.rstrip())"
   ]
  },
  {
   "cell_type": "markdown",
   "id": "5b194ef6",
   "metadata": {},
   "source": [
    "### 7. strip():\n",
    "\n",
    "Remove Both left and right white spaces"
   ]
  },
  {
   "cell_type": "code",
   "execution_count": 24,
   "id": "19d08864",
   "metadata": {},
   "outputs": [
    {
     "name": "stdout",
     "output_type": "stream",
     "text": [
      "saptesh\n"
     ]
    }
   ],
   "source": [
    "username='     saptesh    '\n",
    "print(username.strip())"
   ]
  },
  {
   "cell_type": "code",
   "execution_count": 27,
   "id": "049ca22d",
   "metadata": {},
   "outputs": [
    {
     "data": {
      "text/plain": [
       "True"
      ]
     },
     "execution_count": 27,
     "metadata": {},
     "output_type": "execute_result"
    }
   ],
   "source": [
    "pan_name='SAPTESH DHAKARE'\n",
    "adhar_name='saptesh dhakare   '\n",
    "pan_name==adhar_name.upper().strip()"
   ]
  },
  {
   "cell_type": "code",
   "execution_count": 28,
   "id": "202a479a",
   "metadata": {},
   "outputs": [
    {
     "name": "stdout",
     "output_type": "stream",
     "text": [
      "saptesh dhakare\n"
     ]
    }
   ],
   "source": [
    "print(pan_name.lower())"
   ]
  },
  {
   "cell_type": "markdown",
   "id": "fe2555f2",
   "metadata": {},
   "source": [
    "### 8. replace():\n",
    "-Using this function we can replace any charechter or word in the string.\n",
    "\n",
    "-Syntax: string_name.replace(' old_char / word ' , ' new_char / word ' , ' count ')."
   ]
  },
  {
   "cell_type": "code",
   "execution_count": 37,
   "id": "b069efdf",
   "metadata": {},
   "outputs": [
    {
     "name": "stdout",
     "output_type": "stream",
     "text": [
      "Python Deveolper, Data Analyst, Data Scientist, Data Engineer\n",
      "Python Deveolper, DATA Analyst, DATA Scientist, DATA Engineer\n",
      "Python Deveolper, DATA Analyst, DATA Scientist, Data Engineer\n"
     ]
    }
   ],
   "source": [
    "post='Python Deveolper, Data Analyst, Data Scientist, Data Engineer'\n",
    "print(post)\n",
    "print(post.replace('Data','DATA'))\n",
    "print(post.replace('Data','DATA',2))\n"
   ]
  },
  {
   "cell_type": "code",
   "execution_count": 36,
   "id": "b31bbb3a",
   "metadata": {},
   "outputs": [
    {
     "name": "stdout",
     "output_type": "stream",
     "text": [
      "Python Deveolper, Data Analyst, DATA Scientist, Data Engineer\n"
     ]
    }
   ],
   "source": [
    "print(post.replace('Data S','DATA S'))"
   ]
  },
  {
   "cell_type": "markdown",
   "id": "3b5f9517",
   "metadata": {},
   "source": [
    "### 9. Count():\n",
    "-It return the number of occurance of char or words in given string.\n",
    "-Syntax:\n",
    "    string.count('char / words ' , start , end)"
   ]
  },
  {
   "cell_type": "code",
   "execution_count": 40,
   "id": "bfc37993",
   "metadata": {},
   "outputs": [
    {
     "name": "stdout",
     "output_type": "stream",
     "text": [
      "1\n"
     ]
    }
   ],
   "source": [
    "name='saptesh Anil Dhakare sapteshh'\n",
    "print(name.count('a',0,7)) #count a occurance from 0 index to 7 index"
   ]
  },
  {
   "cell_type": "markdown",
   "id": "82ab97aa",
   "metadata": {},
   "source": [
    "### 10. index ():\n",
    "-It return the index number of given charecter or word inside sring.\n",
    "-syntax: string.index(' word / char' , start , end)\n",
    "-If string or charechter not found it returns error that substring not found."
   ]
  },
  {
   "cell_type": "code",
   "execution_count": 42,
   "id": "9f821f28",
   "metadata": {},
   "outputs": [
    {
     "name": "stdout",
     "output_type": "stream",
     "text": [
      "21\n"
     ]
    }
   ],
   "source": [
    "name='saptesh Anil Dhakare saptesh'\n",
    "print(name.index('saptesh',5,35))"
   ]
  },
  {
   "cell_type": "markdown",
   "id": "e1695c0c",
   "metadata": {},
   "source": [
    "### 11. find():\n",
    "\n",
    "-Find function same as index number.\n",
    "\n",
    "-But diffrance is if char or word not found it returns -1 not like index function it return error.\n",
    "\n",
    "#### Diffrance is match not found in index() it return error but find() return -1."
   ]
  },
  {
   "cell_type": "code",
   "execution_count": 44,
   "id": "e52b6920",
   "metadata": {},
   "outputs": [
    {
     "name": "stdout",
     "output_type": "stream",
     "text": [
      "-1\n"
     ]
    }
   ],
   "source": [
    "name='saptesh Anil Dhakare saptesh'\n",
    "print(name.find('sapteshhh',5,35))"
   ]
  },
  {
   "cell_type": "markdown",
   "id": "4e6126d5",
   "metadata": {},
   "source": [
    "### 12. split ():\n",
    "\n",
    "- It break up string at specified sepreator and return list of sring.\n",
    "- By default seprator is whitespace.\n",
    "- Output is in the format of list.\n",
    "- syntax: string.split('separator')\n"
   ]
  },
  {
   "cell_type": "code",
   "execution_count": 49,
   "id": "3e55943a",
   "metadata": {},
   "outputs": [
    {
     "name": "stdout",
     "output_type": "stream",
     "text": [
      "['saptesh ', 'nil Dhakare ']\n"
     ]
    }
   ],
   "source": [
    "name='saptesh Anil Dhakare '\n",
    "print(name.split('A'))"
   ]
  },
  {
   "cell_type": "markdown",
   "id": "42ab1499",
   "metadata": {},
   "source": [
    "### 13. join():\n",
    "\n",
    "- It retuns output into strin. if we provvide list as input.\n",
    "- this method return string by joining all element in iterable(list).\n",
    "- syntax: 'separator'.join(iterable)\n"
   ]
  },
  {
   "cell_type": "code",
   "execution_count": 59,
   "id": "c9527f3f",
   "metadata": {},
   "outputs": [
    {
     "name": "stdout",
     "output_type": "stream",
     "text": [
      "saptesh anil dhakare\n",
      "saptesh/anil/dhakare\n"
     ]
    }
   ],
   "source": [
    "lst_str=['saptesh','anil','dhakare']\n",
    "print(\" \".join(lst_str))\n",
    "print('/'.join(lst_str))"
   ]
  },
  {
   "cell_type": "markdown",
   "id": "c8bb9007",
   "metadata": {},
   "source": [
    "### 14 startswith():\n",
    "- It returns true if string starts with the specified suffix otherwise it returns false.\n",
    "- syntax: string.startswith('word / char' , start , end)."
   ]
  },
  {
   "cell_type": "code",
   "execution_count": 66,
   "id": "07fd36e4",
   "metadata": {},
   "outputs": [
    {
     "data": {
      "text/plain": [
       "True"
      ]
     },
     "execution_count": 66,
     "metadata": {},
     "output_type": "execute_result"
    }
   ],
   "source": [
    "string='saptesh'\n",
    "string.startswith('p',2) # it means from 2 index p start."
   ]
  },
  {
   "cell_type": "markdown",
   "id": "716f59c2",
   "metadata": {},
   "source": [
    "### 15. endswith():\n",
    "- It return true if string ends with specified preffix otherwise it returns false."
   ]
  },
  {
   "cell_type": "code",
   "execution_count": 68,
   "id": "2772446e",
   "metadata": {},
   "outputs": [
    {
     "name": "stdout",
     "output_type": "stream",
     "text": [
      "True\n",
      "True\n"
     ]
    }
   ],
   "source": [
    "str1='Python'\n",
    "print(str1.endswith('n'))\n",
    "print(str1.endswith('o',1,5))\n"
   ]
  },
  {
   "cell_type": "markdown",
   "id": "01d57031",
   "metadata": {},
   "source": [
    "### 16. isalpha():\n",
    "- It return true if all charecter in string are alphabets.\n",
    "- syntax: str_name.isalpha()"
   ]
  },
  {
   "cell_type": "code",
   "execution_count": 71,
   "id": "a18a175c",
   "metadata": {},
   "outputs": [
    {
     "name": "stdout",
     "output_type": "stream",
     "text": [
      "False\n",
      "True\n"
     ]
    }
   ],
   "source": [
    "str1='pythn devolper' # false because inside string is white space\n",
    "print(str1.isalpha())\n",
    "str1='pythondevolper'\n",
    "print(str1.isalpha())"
   ]
  },
  {
   "cell_type": "markdown",
   "id": "32a3987d",
   "metadata": {},
   "source": [
    "### 17. isalnum():\n",
    "- It return true if all charechter in string are alphanumeric\n",
    "- false when special charechter inside it"
   ]
  },
  {
   "cell_type": "code",
   "execution_count": 80,
   "id": "dda9139c",
   "metadata": {},
   "outputs": [
    {
     "name": "stdout",
     "output_type": "stream",
     "text": [
      "True\n",
      "True\n",
      "True\n",
      "False\n",
      "True\n"
     ]
    }
   ],
   "source": [
    "str1='pythondevolper' # it true inside it alphabet OR number OR alphanumeric \n",
    "print(str1.isalnum())\n",
    "str1='23'# allow number\n",
    "print(str1.isalnum())\n",
    "str1='pythondevolper'#allow alphabet\n",
    "print(str1.isalnum())\n",
    "str1='python devolper23' #dont allow special char  like space\n",
    "print(str1.isalnum())\n",
    "str1='pythondevolper23'#allow combination\n",
    "print(str1.isalnum())"
   ]
  },
  {
   "cell_type": "markdown",
   "id": "f58e3b5c",
   "metadata": {},
   "source": [
    "### 18. isdecimal()  isnumeric()  isdigit()\n",
    "- Tt true for only for numbers\n",
    "- false when decimal becausse point(.) treat as special charecter"
   ]
  },
  {
   "cell_type": "code",
   "execution_count": 81,
   "id": "81962d03",
   "metadata": {},
   "outputs": [
    {
     "name": "stdout",
     "output_type": "stream",
     "text": [
      "True\n",
      "True\n",
      "True\n"
     ]
    }
   ],
   "source": [
    "str1='1234' \n",
    "print(str1.isdecimal())\n",
    "print(str1.isnumeric())\n",
    "print(str1.isdigit())\n"
   ]
  },
  {
   "cell_type": "markdown",
   "id": "9d352284",
   "metadata": {},
   "source": [
    "### 19. zfill()    ---      zero fill\n",
    "- it will add zero at begining of the string.\n",
    "- syntax: str.zfill(width)"
   ]
  },
  {
   "cell_type": "code",
   "execution_count": 84,
   "id": "43d27fec",
   "metadata": {},
   "outputs": [
    {
     "name": "stdout",
     "output_type": "stream",
     "text": [
      "00JAVA\n",
      "00000JAVA\n"
     ]
    }
   ],
   "source": [
    "str1=\"JAVA\"\n",
    "print(str1.zfill(6))\n",
    "print(str1.zfill(9))"
   ]
  },
  {
   "cell_type": "markdown",
   "id": "0feb09fb",
   "metadata": {},
   "source": [
    "### 20. len()\n",
    "- use to find length of string."
   ]
  },
  {
   "cell_type": "code",
   "execution_count": 88,
   "id": "e4b82c10",
   "metadata": {},
   "outputs": [
    {
     "name": "stdout",
     "output_type": "stream",
     "text": [
      "6\n"
     ]
    }
   ],
   "source": [
    "str1='sapteh'\n",
    "print(len(str))"
   ]
  },
  {
   "cell_type": "code",
   "execution_count": null,
   "id": "0d31ec86",
   "metadata": {},
   "outputs": [],
   "source": []
  }
 ],
 "metadata": {
  "kernelspec": {
   "display_name": "Python 3 (ipykernel)",
   "language": "python",
   "name": "python3"
  },
  "language_info": {
   "codemirror_mode": {
    "name": "ipython",
    "version": 3
   },
   "file_extension": ".py",
   "mimetype": "text/x-python",
   "name": "python",
   "nbconvert_exporter": "python",
   "pygments_lexer": "ipython3",
   "version": "3.10.9"
  }
 },
 "nbformat": 4,
 "nbformat_minor": 5
}
