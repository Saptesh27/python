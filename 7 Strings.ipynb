{
 "cells": [
  {
   "cell_type": "markdown",
   "id": "fcd8d540",
   "metadata": {},
   "source": [
    "# String\n"
   ]
  },
  {
   "cell_type": "markdown",
   "id": "98d66683",
   "metadata": {},
   "source": [
    "- String is the collection of charechters that enclosed in single quote or double quote. \n",
    "- Multiline string enclosed in three times single quote or double quote.\n",
    "- String is Imutable Data type\n",
    "- String support indexing, where strat with 0 and last is length of str - 1.\"\"\""
   ]
  },
  {
   "cell_type": "code",
   "execution_count": 2,
   "id": "8a899874",
   "metadata": {},
   "outputs": [
    {
     "data": {
      "text/plain": [
       "'saptesh'"
      ]
     },
     "execution_count": 2,
     "metadata": {},
     "output_type": "execute_result"
    }
   ],
   "source": [
    "str1='saptesh'\n",
    "str1"
   ]
  },
  {
   "cell_type": "markdown",
   "id": "968a3ab1",
   "metadata": {},
   "source": [
    "* if our string is more than one line hence we use three times single quote or double quote."
   ]
  },
  {
   "cell_type": "code",
   "execution_count": 11,
   "id": "c456590b",
   "metadata": {},
   "outputs": [
    {
     "name": "stdout",
     "output_type": "stream",
     "text": [
      "      Rcp imrd\n",
      "      insttitute of management\n",
      "      resarch and devolpment\n"
     ]
    }
   ],
   "source": [
    "\n",
    "str2='''      Rcp imrd\n",
    "      insttitute of management\n",
    "      resarch and devolpment'''\n",
    "print(str2)"
   ]
  },
  {
   "cell_type": "markdown",
   "id": "aac3bf5f",
   "metadata": {},
   "source": [
    "### -Indexing"
   ]
  },
  {
   "cell_type": "code",
   "execution_count": 14,
   "id": "3c84526b",
   "metadata": {},
   "outputs": [
    {
     "name": "stdout",
     "output_type": "stream",
     "text": [
      "P\n"
     ]
    }
   ],
   "source": [
    "str3='RCPIMRD'\n",
    "print(str3[2])"
   ]
  },
  {
   "cell_type": "markdown",
   "id": "c6cbcf64",
   "metadata": {},
   "source": [
    "### -Negative Indexing"
   ]
  },
  {
   "cell_type": "code",
   "execution_count": 16,
   "id": "828139c7",
   "metadata": {},
   "outputs": [
    {
     "name": "stdout",
     "output_type": "stream",
     "text": [
      "M\n"
     ]
    }
   ],
   "source": [
    "print(str3[-3])"
   ]
  },
  {
   "cell_type": "markdown",
   "id": "47beb9b8",
   "metadata": {},
   "source": [
    "### -Slicing using + OR :"
   ]
  },
  {
   "cell_type": "markdown",
   "id": "4018ce49",
   "metadata": {},
   "source": [
    "Slicing is used to for accessing the part of the string\n",
    "    \n",
    "    Syntax: string_name[start_index : end_index(next_index)]"
   ]
  },
  {
   "cell_type": "code",
   "execution_count": 21,
   "id": "8f99d482",
   "metadata": {},
   "outputs": [
    {
     "name": "stdout",
     "output_type": "stream",
     "text": [
      "tho\n"
     ]
    }
   ],
   "source": [
    "str4='Python'\n",
    "print(str4[2] + str4[3] + str4[4])"
   ]
  },
  {
   "cell_type": "code",
   "execution_count": 23,
   "id": "b97640b7",
   "metadata": {},
   "outputs": [
    {
     "name": "stdout",
     "output_type": "stream",
     "text": [
      "tho\n"
     ]
    }
   ],
   "source": [
    "print(str4[2:5])"
   ]
  },
  {
   "cell_type": "code",
   "execution_count": 29,
   "id": "65d91d06",
   "metadata": {},
   "outputs": [
    {
     "name": "stdout",
     "output_type": "stream",
     "text": [
      "Python\n"
     ]
    }
   ],
   "source": [
    "str5='AI with Python'\n",
    "print(str5[8:14])"
   ]
  },
  {
   "cell_type": "code",
   "execution_count": 30,
   "id": "56e112a1",
   "metadata": {},
   "outputs": [
    {
     "name": "stdout",
     "output_type": "stream",
     "text": [
      "AI with \n"
     ]
    }
   ],
   "source": [
    "print(str5[:8])"
   ]
  },
  {
   "cell_type": "code",
   "execution_count": 31,
   "id": "edef91aa",
   "metadata": {},
   "outputs": [
    {
     "name": "stdout",
     "output_type": "stream",
     "text": [
      "Python\n"
     ]
    }
   ],
   "source": [
    "print(str5[8:])"
   ]
  },
  {
   "cell_type": "code",
   "execution_count": 37,
   "id": "f7fc8028",
   "metadata": {},
   "outputs": [
    {
     "name": "stdout",
     "output_type": "stream",
     "text": [
      "with\n"
     ]
    }
   ],
   "source": [
    "print(str5[-11:-7])"
   ]
  },
  {
   "cell_type": "markdown",
   "id": "a1f81340",
   "metadata": {},
   "source": [
    "### Step Size\n",
    "Step size - skip alternative charechters\n",
    "\n",
    "syntax: string[Start_index:End_Index:step_size]\n",
    "\n",
    "- default step size is 1 that skip 0 chars\n",
    "- if we set step size 2 it skips 1 chars \n",
    "- it means step size 1 chars skiped\n"
   ]
  },
  {
   "cell_type": "code",
   "execution_count": 38,
   "id": "a541cd2e",
   "metadata": {},
   "outputs": [
    {
     "name": "stdout",
     "output_type": "stream",
     "text": [
      "A ihPto\n"
     ]
    }
   ],
   "source": [
    "print(str5[::2])"
   ]
  },
  {
   "cell_type": "code",
   "execution_count": 40,
   "id": "c4517a96",
   "metadata": {},
   "outputs": [
    {
     "name": "stdout",
     "output_type": "stream",
     "text": [
      "Awhyo\n"
     ]
    }
   ],
   "source": [
    "print(str5[::3])"
   ]
  },
  {
   "cell_type": "markdown",
   "id": "7cee4d6a",
   "metadata": {},
   "source": [
    "### Negative step size\n",
    "string [ start index : end index : step size ]\n"
   ]
  },
  {
   "cell_type": "code",
   "execution_count": 48,
   "id": "1e6c4f19",
   "metadata": {},
   "outputs": [
    {
     "name": "stdout",
     "output_type": "stream",
     "text": [
      "nohtyP htiw IA\n"
     ]
    }
   ],
   "source": [
    "print(str5[::-1])"
   ]
  },
  {
   "cell_type": "code",
   "execution_count": 51,
   "id": "e660548e",
   "metadata": {},
   "outputs": [
    {
     "name": "stdout",
     "output_type": "stream",
     "text": [
      "nohtyP htiw IA\n"
     ]
    }
   ],
   "source": [
    "print(str5[::-1])"
   ]
  },
  {
   "cell_type": "code",
   "execution_count": 52,
   "id": "de2792f4",
   "metadata": {},
   "outputs": [
    {
     "name": "stdout",
     "output_type": "stream",
     "text": [
      "nohtyP\n"
     ]
    }
   ],
   "source": [
    "print(str5[13:7:-1])"
   ]
  },
  {
   "cell_type": "code",
   "execution_count": 54,
   "id": "878c5f59",
   "metadata": {},
   "outputs": [
    {
     "name": "stdout",
     "output_type": "stream",
     "text": [
      "htiw\n"
     ]
    }
   ],
   "source": [
    "print(str5[6:2:-1])"
   ]
  },
  {
   "cell_type": "code",
   "execution_count": 55,
   "id": "80a53b48",
   "metadata": {},
   "outputs": [
    {
     "name": "stdout",
     "output_type": "stream",
     "text": [
      "htiw\n"
     ]
    }
   ],
   "source": [
    "print(str5[-8:-12:-1])"
   ]
  },
  {
   "cell_type": "code",
   "execution_count": 60,
   "id": "797492de",
   "metadata": {},
   "outputs": [
    {
     "name": "stdout",
     "output_type": "stream",
     "text": [
      "hi\n"
     ]
    }
   ],
   "source": [
    "print(str5[-8:-11:-2])"
   ]
  },
  {
   "cell_type": "code",
   "execution_count": 65,
   "id": "6b61f2f1",
   "metadata": {},
   "outputs": [
    {
     "name": "stdout",
     "output_type": "stream",
     "text": [
      "hi\n"
     ]
    }
   ],
   "source": [
    "print(str5[6:3:-2])"
   ]
  },
  {
   "cell_type": "markdown",
   "id": "ad02385c",
   "metadata": {},
   "source": [
    "### Question \n",
    "\n",
    "#### input --> name surname\n",
    "#### output --> surname name"
   ]
  },
  {
   "cell_type": "code",
   "execution_count": 96,
   "id": "d2e41c30",
   "metadata": {},
   "outputs": [
    {
     "name": "stdout",
     "output_type": "stream",
     "text": [
      "dhakare saptesh \n"
     ]
    }
   ],
   "source": [
    "str6='saptesh dhakare '\n",
    "print(str6[8:16]+str6[0:8])"
   ]
  },
  {
   "cell_type": "code",
   "execution_count": null,
   "id": "c503a679",
   "metadata": {},
   "outputs": [],
   "source": []
  }
 ],
 "metadata": {
  "kernelspec": {
   "display_name": "Python 3 (ipykernel)",
   "language": "python",
   "name": "python3"
  },
  "language_info": {
   "codemirror_mode": {
    "name": "ipython",
    "version": 3
   },
   "file_extension": ".py",
   "mimetype": "text/x-python",
   "name": "python",
   "nbconvert_exporter": "python",
   "pygments_lexer": "ipython3",
   "version": "3.10.9"
  }
 },
 "nbformat": 4,
 "nbformat_minor": 5
}
