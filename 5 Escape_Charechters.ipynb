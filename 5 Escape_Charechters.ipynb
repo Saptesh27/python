{
 "cells": [
  {
   "cell_type": "markdown",
   "id": "c4a1e90d",
   "metadata": {},
   "source": [
    "# Escape Charechter"
   ]
  },
  {
   "cell_type": "code",
   "execution_count": null,
   "id": "5fd84dc4",
   "metadata": {},
   "outputs": [],
   "source": [
    "1. \\n\n",
    "2. \\t\n",
    "3. \\r\n",
    "4. \\\\\n",
    "5. \\''\\\n",
    "6. \\\"\"\\"
   ]
  },
  {
   "cell_type": "markdown",
   "id": "ea2958f6",
   "metadata": {},
   "source": [
    "### 1. \\n ---  New Line\n"
   ]
  },
  {
   "cell_type": "code",
   "execution_count": 10,
   "id": "ef735726",
   "metadata": {},
   "outputs": [
    {
     "name": "stdout",
     "output_type": "stream",
     "text": [
      "AI with \n",
      " Python Tranning\n"
     ]
    }
   ],
   "source": [
    "str1='AI with \\n Python Tranning'\n",
    "print(str1)"
   ]
  },
  {
   "cell_type": "markdown",
   "id": "747e6002",
   "metadata": {},
   "source": [
    "### 2. \\t --- tab or horizontal sapce."
   ]
  },
  {
   "cell_type": "code",
   "execution_count": 16,
   "id": "8569af95",
   "metadata": {},
   "outputs": [
    {
     "name": "stdout",
     "output_type": "stream",
     "text": [
      "\t AI \t With \t python\n"
     ]
    }
   ],
   "source": [
    "str2='\\t AI \\t With \\t python'\n",
    "print(str2)"
   ]
  },
  {
   "cell_type": "markdown",
   "id": "2f700b8e",
   "metadata": {},
   "source": [
    "### 3. \\r --- Return Carriage."
   ]
  },
  {
   "cell_type": "code",
   "execution_count": 19,
   "id": "232fd904",
   "metadata": {},
   "outputs": [
    {
     "name": "stdout",
     "output_type": "stream",
     "text": [
      "AI with Python \r",
      "traning \n"
     ]
    }
   ],
   "source": [
    "str3='AI with Python \\rtraning '\n",
    "print(str3)"
   ]
  },
  {
   "cell_type": "code",
   "execution_count": 20,
   "id": "205f750b",
   "metadata": {},
   "outputs": [
    {
     "name": "stdout",
     "output_type": "stream",
     "text": [
      "saptesh \r",
      " m\n"
     ]
    }
   ],
   "source": [
    "str3='saptesh \\r m'\n",
    "print(str3)"
   ]
  },
  {
   "cell_type": "markdown",
   "id": "15f8f02d",
   "metadata": {},
   "source": [
    "### 4. \\\\\\ --- Bcak Slash"
   ]
  },
  {
   "cell_type": "code",
   "execution_count": 21,
   "id": "8e3ba545",
   "metadata": {},
   "outputs": [
    {
     "name": "stdout",
     "output_type": "stream",
     "text": [
      "D:\\python\n",
      "ew folder\n"
     ]
    }
   ],
   "source": [
    "str4='D:\\python\\new folder'\n",
    "print(str4)"
   ]
  },
  {
   "cell_type": "code",
   "execution_count": 22,
   "id": "3c5f51b4",
   "metadata": {},
   "outputs": [
    {
     "name": "stdout",
     "output_type": "stream",
     "text": [
      "D:\\python\\new folder\n"
     ]
    }
   ],
   "source": [
    "#To avoid that use \\\\ slash\n",
    "str4='D:\\python\\\\new folder'\n",
    "print(str4)"
   ]
  },
  {
   "cell_type": "code",
   "execution_count": 25,
   "id": "86cf7448",
   "metadata": {},
   "outputs": [
    {
     "name": "stdout",
     "output_type": "stream",
     "text": [
      "D:\\python\traning folder\n"
     ]
    }
   ],
   "source": [
    "str4='D:\\python\\traning folder'\n",
    "print(str4)"
   ]
  },
  {
   "cell_type": "code",
   "execution_count": 26,
   "id": "5306dff8",
   "metadata": {},
   "outputs": [
    {
     "name": "stdout",
     "output_type": "stream",
     "text": [
      "D:\\python\\traning folder\n"
     ]
    }
   ],
   "source": [
    "str4='D:\\python\\\\traning folder'\n",
    "print(str4)"
   ]
  },
  {
   "cell_type": "markdown",
   "id": "980940b0",
   "metadata": {},
   "source": [
    "### 5. \\\\' --- Single Quote"
   ]
  },
  {
   "cell_type": "code",
   "execution_count": 27,
   "id": "b5b1aa0e",
   "metadata": {},
   "outputs": [
    {
     "name": "stdout",
     "output_type": "stream",
     "text": [
      "We learning 'AI' with python\n"
     ]
    }
   ],
   "source": [
    "str5='We learning \\'AI\\' with python'\n",
    "print(str5)"
   ]
  },
  {
   "cell_type": "markdown",
   "id": "ca652c39",
   "metadata": {},
   "source": [
    "### 6.\\\\\" --- Double Quote."
   ]
  },
  {
   "cell_type": "code",
   "execution_count": 28,
   "id": "cb4cae47",
   "metadata": {},
   "outputs": [
    {
     "name": "stdout",
     "output_type": "stream",
     "text": [
      "We are learning \"AI\" with python\n"
     ]
    }
   ],
   "source": [
    "str6='We are learning \\\"AI\\\" with python'\n",
    "print(str6)"
   ]
  }
 ],
 "metadata": {
  "kernelspec": {
   "display_name": "Python 3 (ipykernel)",
   "language": "python",
   "name": "python3"
  },
  "language_info": {
   "codemirror_mode": {
    "name": "ipython",
    "version": 3
   },
   "file_extension": ".py",
   "mimetype": "text/x-python",
   "name": "python",
   "nbconvert_exporter": "python",
   "pygments_lexer": "ipython3",
   "version": "3.10.9"
  }
 },
 "nbformat": 4,
 "nbformat_minor": 5
}
