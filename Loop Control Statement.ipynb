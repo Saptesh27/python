{
 "cells": [
  {
   "cell_type": "markdown",
   "id": "400ebca9",
   "metadata": {},
   "source": [
    "## Loop Control Statement (For , While)\n",
    "\n",
    "### 1) For Loop\n",
    "- If we want to execute some action / statement for number of times then we use this loop.\n",
    "- Specially it was used  with sequence (string,list,tuple,list,dict,range)\n",
    "- syntax:\n",
    "    for iterative_variable in sequence:\n",
    "        body of for loop\n",
    "        statements"
   ]
  },
  {
   "cell_type": "code",
   "execution_count": 1,
   "id": "5bf4842b",
   "metadata": {},
   "outputs": [
    {
     "name": "stdout",
     "output_type": "stream",
     "text": [
      "F\n",
      "U\n",
      "E\n",
      "L\n"
     ]
    }
   ],
   "source": [
    "str1='FUEL'\n",
    "for char in str1:\n",
    "    print(char)"
   ]
  },
  {
   "cell_type": "code",
   "execution_count": 3,
   "id": "435c889e",
   "metadata": {},
   "outputs": [
    {
     "name": "stdout",
     "output_type": "stream",
     "text": [
      "1\n",
      "4\n",
      "9\n",
      "16\n",
      "25\n",
      "36\n"
     ]
    }
   ],
   "source": [
    "lst=[1,2,3,4,5,6]\n",
    "for i in lst:\n",
    "    print(i*i)"
   ]
  },
  {
   "cell_type": "markdown",
   "id": "8536db8b",
   "metadata": {},
   "source": [
    "### For Loop Using RANGE()\n",
    "\n",
    "- range starts by default 0 and end n-1\n",
    "- for i in range(start, end, step_size)"
   ]
  },
  {
   "cell_type": "code",
   "execution_count": 10,
   "id": "91bc6c3f",
   "metadata": {},
   "outputs": [
    {
     "name": "stdout",
     "output_type": "stream",
     "text": [
      "20\n",
      "19\n",
      "18\n",
      "17\n",
      "16\n",
      "15\n",
      "14\n",
      "13\n",
      "12\n",
      "11\n"
     ]
    }
   ],
   "source": [
    "for i in range(20,10,-1):\n",
    "    print(i)"
   ]
  },
  {
   "cell_type": "code",
   "execution_count": 15,
   "id": "fa7697bf",
   "metadata": {},
   "outputs": [
    {
     "name": "stdout",
     "output_type": "stream",
     "text": [
      "1 Good Morning\n",
      "2 Good Morning\n",
      "3 Good Morning\n",
      "4 Good Morning\n",
      "5 Good Morning\n",
      "6 Good Morning\n",
      "7 Good Morning\n",
      "8 Good Morning\n",
      "9 Good Morning\n",
      "10 Good Morning\n"
     ]
    }
   ],
   "source": [
    "for i in range(1,11):\n",
    "    print(f'{i} Good Morning')"
   ]
  },
  {
   "cell_type": "code",
   "execution_count": 14,
   "id": "e0f4026d",
   "metadata": {},
   "outputs": [
    {
     "name": "stdout",
     "output_type": "stream",
     "text": [
      "7\n",
      "14\n",
      "21\n",
      "28\n",
      "35\n",
      "42\n",
      "49\n",
      "56\n",
      "63\n",
      "70\n"
     ]
    }
   ],
   "source": [
    "for i in range(1,11):\n",
    "    print(7*i)"
   ]
  },
  {
   "cell_type": "code",
   "execution_count": 19,
   "id": "8bb20e69",
   "metadata": {},
   "outputs": [
    {
     "name": "stdout",
     "output_type": "stream",
     "text": [
      "7\n",
      "14\n",
      "21\n",
      "28\n",
      "35\n",
      "42\n",
      "49\n",
      "56\n",
      "63\n",
      "70\n"
     ]
    }
   ],
   "source": [
    "for i in range(7,71,7):\n",
    "    print(i)"
   ]
  },
  {
   "cell_type": "code",
   "execution_count": 22,
   "id": "0a6e7b1d",
   "metadata": {},
   "outputs": [
    {
     "name": "stdout",
     "output_type": "stream",
     "text": [
      "2\n",
      "4\n",
      "6\n",
      "8\n",
      "10\n",
      "12\n",
      "14\n",
      "16\n",
      "18\n",
      "20\n"
     ]
    }
   ],
   "source": [
    "for i in range(1,21):\n",
    "    if i%2==0:\n",
    "        print(i)"
   ]
  },
  {
   "cell_type": "code",
   "execution_count": 23,
   "id": "92c54f2f",
   "metadata": {},
   "outputs": [
    {
     "name": "stdout",
     "output_type": "stream",
     "text": [
      "1\n",
      "4\n",
      "3\n",
      "8\n",
      "5\n",
      "12\n",
      "7\n",
      "16\n",
      "9\n",
      "20\n",
      "11\n",
      "24\n",
      "13\n",
      "28\n",
      "15\n",
      "32\n",
      "17\n",
      "36\n",
      "19\n",
      "40\n"
     ]
    }
   ],
   "source": [
    "for i in range(1,21):\n",
    "    if i%2==0:\n",
    "        print(i*2)\n",
    "    else:\n",
    "        print(i)"
   ]
  },
  {
   "cell_type": "code",
   "execution_count": 41,
   "id": "ffa78230",
   "metadata": {},
   "outputs": [
    {
     "name": "stdout",
     "output_type": "stream",
     "text": [
      "1\n",
      "3\n",
      "6\n",
      "10\n",
      "15\n",
      "21\n",
      "28\n",
      "36\n",
      "45\n",
      "55\n"
     ]
    }
   ],
   "source": [
    "add=0\n",
    "for i in range(1,11):\n",
    "    add+=i ##add = add+i\n",
    "    print(add)\n",
    "    "
   ]
  },
  {
   "cell_type": "markdown",
   "id": "89db19b1",
   "metadata": {},
   "source": [
    "## While Loop\n",
    "- it will execute the block of code repetadly until the condition become false.\n",
    "- syntax :\n",
    "-  while condition:\n",
    "-       statements"
   ]
  },
  {
   "cell_type": "code",
   "execution_count": 9,
   "id": "8167434c",
   "metadata": {},
   "outputs": [
    {
     "name": "stdout",
     "output_type": "stream",
     "text": [
      "10\n",
      "9\n",
      "8\n",
      "7\n",
      "6\n",
      "5\n",
      "4\n",
      "3\n",
      "2\n",
      "1\n"
     ]
    }
   ],
   "source": [
    "i=10\n",
    "while(i>=1):\n",
    "    print(i)\n",
    "    i=i-1"
   ]
  },
  {
   "cell_type": "code",
   "execution_count": 16,
   "id": "56c2c5d2",
   "metadata": {},
   "outputs": [
    {
     "name": "stdout",
     "output_type": "stream",
     "text": [
      "Enter how many even numbers u want from 1 to 10\n",
      "2\n",
      "4\n",
      "6\n",
      "8\n",
      "10\n"
     ]
    }
   ],
   "source": [
    "#Even numbers using while\n",
    "num=eval(input('Enter how many even numbers u want from 1 to '))\n",
    "i=1\n",
    "while(i<=num):\n",
    "    if(i%2==0):\n",
    "        print(i)\n",
    "    i+=1\n"
   ]
  },
  {
   "cell_type": "code",
   "execution_count": null,
   "id": "2b50892a",
   "metadata": {},
   "outputs": [],
   "source": []
  }
 ],
 "metadata": {
  "kernelspec": {
   "display_name": "Python 3 (ipykernel)",
   "language": "python",
   "name": "python3"
  },
  "language_info": {
   "codemirror_mode": {
    "name": "ipython",
    "version": 3
   },
   "file_extension": ".py",
   "mimetype": "text/x-python",
   "name": "python",
   "nbconvert_exporter": "python",
   "pygments_lexer": "ipython3",
   "version": "3.10.9"
  }
 },
 "nbformat": 4,
 "nbformat_minor": 5
}
